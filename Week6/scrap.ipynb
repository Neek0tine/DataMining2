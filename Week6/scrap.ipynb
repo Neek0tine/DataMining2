{
 "cells": [
  {
   "cell_type": "code",
   "execution_count": 1,
   "metadata": {},
   "outputs": [],
   "source": [
    "import snscrape\n",
    "import pandas as pd\n",
    "import networkx as nx\n",
    "import re\n"
   ]
  },
  {
   "cell_type": "code",
   "execution_count": 10,
   "metadata": {},
   "outputs": [
    {
     "data": {
      "text/plain": [
       "Index(['_type', 'url', 'date', 'content', 'renderedContent', 'id', 'user',\n",
       "       'replyCount', 'retweetCount', 'likeCount', 'quoteCount',\n",
       "       'conversationId', 'lang', 'source', 'sourceUrl', 'sourceLabel',\n",
       "       'outlinks', 'tcooutlinks', 'media', 'retweetedTweet', 'quotedTweet',\n",
       "       'inReplyToTweetId', 'inReplyToUser', 'mentionedUsers', 'coordinates',\n",
       "       'place', 'hashtags', 'cashtags'],\n",
       "      dtype='object')"
      ]
     },
     "execution_count": 10,
     "metadata": {},
     "output_type": "execute_result"
    }
   ],
   "source": [
    "df = pd.read_json('esteh.json', lines=True)\n",
    "df.columns"
   ]
  },
  {
   "cell_type": "code",
   "execution_count": 11,
   "metadata": {},
   "outputs": [
    {
     "data": {
      "text/html": [
       "<div>\n",
       "<style scoped>\n",
       "    .dataframe tbody tr th:only-of-type {\n",
       "        vertical-align: middle;\n",
       "    }\n",
       "\n",
       "    .dataframe tbody tr th {\n",
       "        vertical-align: top;\n",
       "    }\n",
       "\n",
       "    .dataframe thead th {\n",
       "        text-align: right;\n",
       "    }\n",
       "</style>\n",
       "<table border=\"1\" class=\"dataframe\">\n",
       "  <thead>\n",
       "    <tr style=\"text-align: right;\">\n",
       "      <th></th>\n",
       "      <th>content</th>\n",
       "      <th>user</th>\n",
       "    </tr>\n",
       "  </thead>\n",
       "  <tbody>\n",
       "    <tr>\n",
       "      <th>0</th>\n",
       "      <td>Missing the same person, everyday\\n\\n#estehind...</td>\n",
       "      <td>{'_type': 'snscrape.modules.twitter.User', 'us...</td>\n",
       "    </tr>\n",
       "    <tr>\n",
       "      <th>1</th>\n",
       "      <td>#luhutbinsarpanjaitan #AirlanggaHartarto #Joko...</td>\n",
       "      <td>{'_type': 'snscrape.modules.twitter.User', 'us...</td>\n",
       "    </tr>\n",
       "    <tr>\n",
       "      <th>2</th>\n",
       "      <td>Jualan itu kudu siap dikritik, bukan ngasih so...</td>\n",
       "      <td>{'_type': 'snscrape.modules.twitter.User', 'us...</td>\n",
       "    </tr>\n",
       "    <tr>\n",
       "      <th>3</th>\n",
       "      <td>Kisruh Es Teh Indonesia, ini kata Ernest Praka...</td>\n",
       "      <td>{'_type': 'snscrape.modules.twitter.User', 'us...</td>\n",
       "    </tr>\n",
       "    <tr>\n",
       "      <th>4</th>\n",
       "      <td>Fak estehendonesa !\\nMy hommies drink VONTEA (...</td>\n",
       "      <td>{'_type': 'snscrape.modules.twitter.User', 'us...</td>\n",
       "    </tr>\n",
       "    <tr>\n",
       "      <th>...</th>\n",
       "      <td>...</td>\n",
       "      <td>...</td>\n",
       "    </tr>\n",
       "    <tr>\n",
       "      <th>618</th>\n",
       "      <td>Warga Bekaseee jangan lupa hari ini yaaa.... 😍...</td>\n",
       "      <td>{'_type': 'snscrape.modules.twitter.User', 'us...</td>\n",
       "    </tr>\n",
       "    <tr>\n",
       "      <th>619</th>\n",
       "      <td>Ada #kopiindonesia, ada #estehindonesia luar b...</td>\n",
       "      <td>{'_type': 'snscrape.modules.twitter.User', 'us...</td>\n",
       "    </tr>\n",
       "    <tr>\n",
       "      <th>620</th>\n",
       "      <td>Sekopi kopinya kamu pasti minum es teh juga #e...</td>\n",
       "      <td>{'_type': 'snscrape.modules.twitter.User', 'us...</td>\n",
       "    </tr>\n",
       "    <tr>\n",
       "      <th>621</th>\n",
       "      <td>Sekopi-kopinya kamu. Es teh manis adalah kita ...</td>\n",
       "      <td>{'_type': 'snscrape.modules.twitter.User', 'us...</td>\n",
       "    </tr>\n",
       "    <tr>\n",
       "      <th>622</th>\n",
       "      <td>Once more congratulation beb @jodiebianca atas...</td>\n",
       "      <td>{'_type': 'snscrape.modules.twitter.User', 'us...</td>\n",
       "    </tr>\n",
       "  </tbody>\n",
       "</table>\n",
       "<p>623 rows × 2 columns</p>\n",
       "</div>"
      ],
      "text/plain": [
       "                                               content  \\\n",
       "0    Missing the same person, everyday\\n\\n#estehind...   \n",
       "1    #luhutbinsarpanjaitan #AirlanggaHartarto #Joko...   \n",
       "2    Jualan itu kudu siap dikritik, bukan ngasih so...   \n",
       "3    Kisruh Es Teh Indonesia, ini kata Ernest Praka...   \n",
       "4    Fak estehendonesa !\\nMy hommies drink VONTEA (...   \n",
       "..                                                 ...   \n",
       "618  Warga Bekaseee jangan lupa hari ini yaaa.... 😍...   \n",
       "619  Ada #kopiindonesia, ada #estehindonesia luar b...   \n",
       "620  Sekopi kopinya kamu pasti minum es teh juga #e...   \n",
       "621  Sekopi-kopinya kamu. Es teh manis adalah kita ...   \n",
       "622  Once more congratulation beb @jodiebianca atas...   \n",
       "\n",
       "                                                  user  \n",
       "0    {'_type': 'snscrape.modules.twitter.User', 'us...  \n",
       "1    {'_type': 'snscrape.modules.twitter.User', 'us...  \n",
       "2    {'_type': 'snscrape.modules.twitter.User', 'us...  \n",
       "3    {'_type': 'snscrape.modules.twitter.User', 'us...  \n",
       "4    {'_type': 'snscrape.modules.twitter.User', 'us...  \n",
       "..                                                 ...  \n",
       "618  {'_type': 'snscrape.modules.twitter.User', 'us...  \n",
       "619  {'_type': 'snscrape.modules.twitter.User', 'us...  \n",
       "620  {'_type': 'snscrape.modules.twitter.User', 'us...  \n",
       "621  {'_type': 'snscrape.modules.twitter.User', 'us...  \n",
       "622  {'_type': 'snscrape.modules.twitter.User', 'us...  \n",
       "\n",
       "[623 rows x 2 columns]"
      ]
     },
     "execution_count": 11,
     "metadata": {},
     "output_type": "execute_result"
    }
   ],
   "source": [
    "scrap = df.drop(['_type', 'url', 'date', 'renderedContent', 'id',\n",
    "       'replyCount', 'retweetCount', 'likeCount', 'quoteCount',\n",
    "       'conversationId', 'lang', 'source', 'sourceUrl', 'sourceLabel',\n",
    "       'outlinks', 'tcooutlinks', 'media', 'retweetedTweet', 'quotedTweet',\n",
    "       'inReplyToTweetId', 'inReplyToUser', 'mentionedUsers', 'coordinates',\n",
    "       'place', 'hashtags', 'cashtags'], axis=1)\n",
    "scrap\n"
   ]
  },
  {
   "cell_type": "code",
   "execution_count": 12,
   "metadata": {},
   "outputs": [
    {
     "data": {
      "text/html": [
       "<div>\n",
       "<style scoped>\n",
       "    .dataframe tbody tr th:only-of-type {\n",
       "        vertical-align: middle;\n",
       "    }\n",
       "\n",
       "    .dataframe tbody tr th {\n",
       "        vertical-align: top;\n",
       "    }\n",
       "\n",
       "    .dataframe thead th {\n",
       "        text-align: right;\n",
       "    }\n",
       "</style>\n",
       "<table border=\"1\" class=\"dataframe\">\n",
       "  <thead>\n",
       "    <tr style=\"text-align: right;\">\n",
       "      <th></th>\n",
       "      <th>content</th>\n",
       "      <th>user</th>\n",
       "    </tr>\n",
       "  </thead>\n",
       "  <tbody>\n",
       "    <tr>\n",
       "      <th>0</th>\n",
       "      <td>Missing the same person, everyday\\n\\n#estehind...</td>\n",
       "      <td>@p_andalusia</td>\n",
       "    </tr>\n",
       "    <tr>\n",
       "      <th>1</th>\n",
       "      <td>#luhutbinsarpanjaitan #AirlanggaHartarto #Joko...</td>\n",
       "      <td>@TeknokratJawa</td>\n",
       "    </tr>\n",
       "    <tr>\n",
       "      <th>2</th>\n",
       "      <td>Jualan itu kudu siap dikritik, bukan ngasih so...</td>\n",
       "      <td>@txtdrpengusaha</td>\n",
       "    </tr>\n",
       "    <tr>\n",
       "      <th>3</th>\n",
       "      <td>Kisruh Es Teh Indonesia, ini kata Ernest Praka...</td>\n",
       "      <td>@Beritasatu</td>\n",
       "    </tr>\n",
       "    <tr>\n",
       "      <th>4</th>\n",
       "      <td>Fak estehendonesa !\\nMy hommies drink VONTEA (...</td>\n",
       "      <td>@YudhaSKAlatiga</td>\n",
       "    </tr>\n",
       "    <tr>\n",
       "      <th>...</th>\n",
       "      <td>...</td>\n",
       "      <td>...</td>\n",
       "    </tr>\n",
       "    <tr>\n",
       "      <th>618</th>\n",
       "      <td>Warga Bekaseee jangan lupa hari ini yaaa.... 😍...</td>\n",
       "      <td>@fatinfebri</td>\n",
       "    </tr>\n",
       "    <tr>\n",
       "      <th>619</th>\n",
       "      <td>Ada #kopiindonesia, ada #estehindonesia luar b...</td>\n",
       "      <td>@baimjalu</td>\n",
       "    </tr>\n",
       "    <tr>\n",
       "      <th>620</th>\n",
       "      <td>Sekopi kopinya kamu pasti minum es teh juga #e...</td>\n",
       "      <td>@kurniaw05441616</td>\n",
       "    </tr>\n",
       "    <tr>\n",
       "      <th>621</th>\n",
       "      <td>Sekopi-kopinya kamu. Es teh manis adalah kita ...</td>\n",
       "      <td>@bundaorizaa</td>\n",
       "    </tr>\n",
       "    <tr>\n",
       "      <th>622</th>\n",
       "      <td>Once more congratulation beb @jodiebianca atas...</td>\n",
       "      <td>@rezaalle</td>\n",
       "    </tr>\n",
       "  </tbody>\n",
       "</table>\n",
       "<p>623 rows × 2 columns</p>\n",
       "</div>"
      ],
      "text/plain": [
       "                                               content              user\n",
       "0    Missing the same person, everyday\\n\\n#estehind...      @p_andalusia\n",
       "1    #luhutbinsarpanjaitan #AirlanggaHartarto #Joko...    @TeknokratJawa\n",
       "2    Jualan itu kudu siap dikritik, bukan ngasih so...   @txtdrpengusaha\n",
       "3    Kisruh Es Teh Indonesia, ini kata Ernest Praka...       @Beritasatu\n",
       "4    Fak estehendonesa !\\nMy hommies drink VONTEA (...   @YudhaSKAlatiga\n",
       "..                                                 ...               ...\n",
       "618  Warga Bekaseee jangan lupa hari ini yaaa.... 😍...       @fatinfebri\n",
       "619  Ada #kopiindonesia, ada #estehindonesia luar b...         @baimjalu\n",
       "620  Sekopi kopinya kamu pasti minum es teh juga #e...  @kurniaw05441616\n",
       "621  Sekopi-kopinya kamu. Es teh manis adalah kita ...      @bundaorizaa\n",
       "622  Once more congratulation beb @jodiebianca atas...         @rezaalle\n",
       "\n",
       "[623 rows x 2 columns]"
      ]
     },
     "execution_count": 12,
     "metadata": {},
     "output_type": "execute_result"
    }
   ],
   "source": [
    "listuser = []\n",
    "for row in scrap['user']:\n",
    "    listuser.append('@'+row['username'])\n",
    "scrap['user'] = listuser\n",
    "scrap"
   ]
  },
  {
   "cell_type": "code",
   "execution_count": 13,
   "metadata": {},
   "outputs": [
    {
     "data": {
      "text/plain": [
       "'#luhutbinsarpanjaitan #AirlanggaHartarto #Jokowi #estehindonesia #somasi #rehan https://t.co/bERYLicJT8'"
      ]
     },
     "execution_count": 13,
     "metadata": {},
     "output_type": "execute_result"
    }
   ],
   "source": [
    "text = scrap['content'][1]\n",
    "text"
   ]
  },
  {
   "cell_type": "code",
   "execution_count": 14,
   "metadata": {},
   "outputs": [],
   "source": [
    "mentionnet = nx.DiGraph()\n",
    "\n",
    "for row in scrap.iterrows():\n",
    "    author = row[1]['user']\n",
    "    text = row[1]['content']\n",
    "\n",
    "    mentions = set(re.findall(r'@(\\w+)', text))\n",
    "\n",
    "    if len(mentions) > 0:\n",
    "        for u in mentions:\n",
    "            u = f'@{u}'\n",
    "            mentionnet.add_edge(author, u)\n",
    "    "
   ]
  },
  {
   "cell_type": "code",
   "execution_count": 15,
   "metadata": {},
   "outputs": [],
   "source": [
    "degreecentral = nx.degree_centrality(mentionnet)"
   ]
  },
  {
   "cell_type": "code",
   "execution_count": 16,
   "metadata": {},
   "outputs": [
    {
     "name": "stdout",
     "output_type": "stream",
     "text": [
      "{'@YudhaSKAlatiga': 0.0078125, '@2K': 0.0078125, '@emirahay82': 0.0078125, '@BangUkis': 0.0078125, '@kokgitugy': 0.015625, '@avatararthur': 0.0078125, '@uglyducklink': 0.0078125, '@KanalnewsC': 0.015625, '@yoube_nv': 0.0234375, '@Gandhoyy': 0.03125, '@apathoni': 0.0078125, '@esteh_indonesia': 0.34375, '@Airam535': 0.0078125, '@tan___dez': 0.0078125, '@Holopis': 0.0078125, '@PrasBo': 0.015625, '@kreshna': 0.0078125, '@YogaFebriansya4': 0.0078125, '@bamsharyanto': 0.0078125, '@didi_yoyo': 0.0078125, '@gemaposID': 0.0078125, '@vdvc_talk': 0.015625, '@ekojune': 0.0078125, '@jack82881464': 0.0078125, '@NarasiNewsroom': 0.0078125, '@novieardeanne': 0.03125, '@MintZ': 0.0078125, '@pizzahut': 0.0078125, '@her_alone': 0.0078125, '@GiantIndo': 0.0078125, '@Virgosboy18': 0.0078125, '@sipeternakkadal': 0.0078125, '@CNNIndonesia': 0.0078125, '@sncerita': 0.0078125, '@liebgodt': 0.0078125, '@adityamfarhaan': 0.0078125, '@singaporean95': 0.0078125, '@portalyogya': 0.0078125, '@gandhoyy': 0.0078125, '@TamaVwx': 0.015625, '@indeksncom': 0.0078125, '@Indeks': 0.0078125, '@Fattasyah': 0.0078125, '@Irwankhairy_': 0.0078125, '@andinrahmana': 0.0078125, '@distanugraha': 0.0078125, '@MallBassura': 0.015625, '@esteh': 0.046875, '@specialtea': 0.0078125, '@mbaami_': 0.0078125, '@DokterTifa': 0.0078125, '@Bassura': 0.0078125, '@MTlesmana': 0.0078125, '@capekbgtzzz': 0.0078125, '@wulanisdiah': 0.0078125, '@rwcewe': 0.015625, '@lynee': 0.0078125, '@gendissasqia': 0.0078125, '@trravelokadulu': 0.0078125, '@zeehidayah': 0.0078125, '@buildingpeace_': 0.0078125, '@ibnu_Dahituaja': 0.0078125, '@dwannss': 0.0078125, '@warta21ads': 0.015625, '@HONNEYMOON91': 0.0078125, '@mediawave_id': 0.0078125, '@mrezzaptr': 0.0078125, '@faizalfirdaus_': 0.0078125, '@TretanMuslim': 0.0078125, '@reynainn': 0.0078125, '@devgrohll': 0.0078125, '@rbgid_': 0.0078125, '@rbg': 0.0078125, '@Hi_pontianak': 0.0078125, '@Hi': 0.0078125, '@tom_mygun': 0.03125, '@dscream_twt': 0.0078125, '@txtfrombrand': 0.0078125, '@ulett_m': 0.0078125, '@___sweetandsour': 0.0078125, '@mebestgirl_': 0.0078125, '@red_riauonline': 0.0078125, '@muthiahry': 0.0078125, '@zarieen_': 0.0078125, '@mangg0creamyyy': 0.0078125, '@BeancurdLee': 0.0078125, '@destydiyanaw': 0.0078125, '@JakartaFairID': 0.0078125, '@UlilMh096': 0.0234375, '@estehmanis': 0.0078125, '@co': 0.0078125, '@hs_tyan': 0.0078125, '@estehindonesia2': 0.0078125, '@Ghozali_Ghozalu': 0.015625, '@AlloBankID': 0.0078125, '@FikriCRP': 0.0078125, '@justinbieber': 0.0078125, '@gabseknath': 0.0078125, '@xyznana__': 0.0078125, '@FOODFESS2': 0.0078125, '@marcmarquez93': 0.0078125, '@jeon97bestie': 0.0078125, '@omniiivora': 0.0078125, '@danu_sofwan': 0.0234375, '@Utopia_family': 0.0078125, '@haidharwurjanto': 0.0078125, '@shotbytera': 0.0078125, '@world_halu': 0.0078125, '@itsalsheridan': 0.0078125, '@hasnanfh05': 0.0078125, '@rwin4_': 0.0078125, '@Hagura23': 0.0078125, '@irnadim99': 0.0078125, '@_puntungrokok': 0.015625, '@InfoBekasi_IGG': 0.0078125, '@infoJATIASIH': 0.0078125, '@mashurr_': 0.0078125, '@skapskipproject': 0.0078125, '@ices_rz': 0.0078125, '@sandriputrii': 0.0078125, '@limprathama_': 0.0078125, '@raynareswari': 0.0078125, '@pidada87': 0.0078125, '@GrabID': 0.0078125, '@dstn_indo': 0.0078125, '@kupastuntasnew': 0.0078125, '@YouTube': 0.0078125, '@rezaalle': 0.0078125, '@jodiebianca': 0.0078125}\n"
     ]
    }
   ],
   "source": [
    "print(degreecentral)"
   ]
  },
  {
   "cell_type": "code",
   "execution_count": 17,
   "metadata": {},
   "outputs": [],
   "source": [
    "dfexport = nx.to_pandas_edgelist(mentionnet)\n",
    "dfexport.to_csv('terlalumanis.csv')"
   ]
  }
 ],
 "metadata": {
  "kernelspec": {
   "display_name": "Python 3.10.5 ('.venv': venv)",
   "language": "python",
   "name": "python3"
  },
  "language_info": {
   "codemirror_mode": {
    "name": "ipython",
    "version": 3
   },
   "file_extension": ".py",
   "mimetype": "text/x-python",
   "name": "python",
   "nbconvert_exporter": "python",
   "pygments_lexer": "ipython3",
   "version": "3.10.5"
  },
  "orig_nbformat": 4,
  "vscode": {
   "interpreter": {
    "hash": "e5bdc5626e3ee0b9f2cb17ad4f32f901df6de7438aedae0b4184927feb23b082"
   }
  }
 },
 "nbformat": 4,
 "nbformat_minor": 2
}
