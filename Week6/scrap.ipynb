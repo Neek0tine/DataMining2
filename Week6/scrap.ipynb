{
 "cells": [
  {
   "cell_type": "code",
   "execution_count": 47,
   "metadata": {},
   "outputs": [],
   "source": [
    "import snscrape\n",
    "import pandas as pd\n",
    "import networkx as nx\n",
    "import re\n"
   ]
  },
  {
   "cell_type": "code",
   "execution_count": 48,
   "metadata": {},
   "outputs": [
    {
     "data": {
      "text/plain": [
       "Index(['_type', 'url', 'date', 'content', 'renderedContent', 'id', 'user',\n",
       "       'replyCount', 'retweetCount', 'likeCount', 'quoteCount',\n",
       "       'conversationId', 'lang', 'source', 'sourceUrl', 'sourceLabel',\n",
       "       'outlinks', 'tcooutlinks', 'media', 'retweetedTweet', 'quotedTweet',\n",
       "       'inReplyToTweetId', 'inReplyToUser', 'mentionedUsers', 'coordinates',\n",
       "       'place', 'hashtags', 'cashtags'],\n",
       "      dtype='object')"
      ]
     },
     "execution_count": 48,
     "metadata": {},
     "output_type": "execute_result"
    }
   ],
   "source": [
    "df = pd.read_json('elizabeth.json', lines=True)\n",
    "df.columns"
   ]
  },
  {
   "cell_type": "code",
   "execution_count": 49,
   "metadata": {},
   "outputs": [
    {
     "data": {
      "text/html": [
       "<div>\n",
       "<style scoped>\n",
       "    .dataframe tbody tr th:only-of-type {\n",
       "        vertical-align: middle;\n",
       "    }\n",
       "\n",
       "    .dataframe tbody tr th {\n",
       "        vertical-align: top;\n",
       "    }\n",
       "\n",
       "    .dataframe thead th {\n",
       "        text-align: right;\n",
       "    }\n",
       "</style>\n",
       "<table border=\"1\" class=\"dataframe\">\n",
       "  <thead>\n",
       "    <tr style=\"text-align: right;\">\n",
       "      <th></th>\n",
       "      <th>content</th>\n",
       "      <th>user</th>\n",
       "    </tr>\n",
       "  </thead>\n",
       "  <tbody>\n",
       "    <tr>\n",
       "      <th>0</th>\n",
       "      <td>La présidente éthiopienne Sahle-Work Zewde a r...</td>\n",
       "      <td>{'_type': 'snscrape.modules.twitter.User', 'us...</td>\n",
       "    </tr>\n",
       "    <tr>\n",
       "      <th>1</th>\n",
       "      <td>Queen Elizabeth Portrait Tribute T-Shirt\\n #El...</td>\n",
       "      <td>{'_type': 'snscrape.modules.twitter.User', 'us...</td>\n",
       "    </tr>\n",
       "    <tr>\n",
       "      <th>2</th>\n",
       "      <td>Answer the question below. Enhance, refine, an...</td>\n",
       "      <td>{'_type': 'snscrape.modules.twitter.User', 'us...</td>\n",
       "    </tr>\n",
       "    <tr>\n",
       "      <th>3</th>\n",
       "      <td>Elizabeth Bennet Literary Candle 👋\\n #Candle #...</td>\n",
       "      <td>{'_type': 'snscrape.modules.twitter.User', 'us...</td>\n",
       "    </tr>\n",
       "    <tr>\n",
       "      <th>4</th>\n",
       "      <td>Visiblement, le petit #Trudeau a perdu sa gran...</td>\n",
       "      <td>{'_type': 'snscrape.modules.twitter.User', 'us...</td>\n",
       "    </tr>\n",
       "    <tr>\n",
       "      <th>...</th>\n",
       "      <td>...</td>\n",
       "      <td>...</td>\n",
       "    </tr>\n",
       "    <tr>\n",
       "      <th>995</th>\n",
       "      <td>Queen Elizabeth Ornament Mug,Elizabeth Mug,Que...</td>\n",
       "      <td>{'_type': 'snscrape.modules.twitter.User', 'us...</td>\n",
       "    </tr>\n",
       "    <tr>\n",
       "      <th>996</th>\n",
       "      <td>A moment from today. Queen Elizabeth II funera...</td>\n",
       "      <td>{'_type': 'snscrape.modules.twitter.User', 'us...</td>\n",
       "    </tr>\n",
       "    <tr>\n",
       "      <th>997</th>\n",
       "      <td>#Diana 's shadow on #Elizabeth 's #funeral, a ...</td>\n",
       "      <td>{'_type': 'snscrape.modules.twitter.User', 'us...</td>\n",
       "    </tr>\n",
       "    <tr>\n",
       "      <th>998</th>\n",
       "      <td>Queen Elizabeth II Is Under Medical Supervisio...</td>\n",
       "      <td>{'_type': 'snscrape.modules.twitter.User', 'us...</td>\n",
       "    </tr>\n",
       "    <tr>\n",
       "      <th>999</th>\n",
       "      <td>Queen Elizabeth II Is Under Medical Supervisio...</td>\n",
       "      <td>{'_type': 'snscrape.modules.twitter.User', 'us...</td>\n",
       "    </tr>\n",
       "  </tbody>\n",
       "</table>\n",
       "<p>1000 rows × 2 columns</p>\n",
       "</div>"
      ],
      "text/plain": [
       "                                               content  \\\n",
       "0    La présidente éthiopienne Sahle-Work Zewde a r...   \n",
       "1    Queen Elizabeth Portrait Tribute T-Shirt\\n #El...   \n",
       "2    Answer the question below. Enhance, refine, an...   \n",
       "3    Elizabeth Bennet Literary Candle 👋\\n #Candle #...   \n",
       "4    Visiblement, le petit #Trudeau a perdu sa gran...   \n",
       "..                                                 ...   \n",
       "995  Queen Elizabeth Ornament Mug,Elizabeth Mug,Que...   \n",
       "996  A moment from today. Queen Elizabeth II funera...   \n",
       "997  #Diana 's shadow on #Elizabeth 's #funeral, a ...   \n",
       "998  Queen Elizabeth II Is Under Medical Supervisio...   \n",
       "999  Queen Elizabeth II Is Under Medical Supervisio...   \n",
       "\n",
       "                                                  user  \n",
       "0    {'_type': 'snscrape.modules.twitter.User', 'us...  \n",
       "1    {'_type': 'snscrape.modules.twitter.User', 'us...  \n",
       "2    {'_type': 'snscrape.modules.twitter.User', 'us...  \n",
       "3    {'_type': 'snscrape.modules.twitter.User', 'us...  \n",
       "4    {'_type': 'snscrape.modules.twitter.User', 'us...  \n",
       "..                                                 ...  \n",
       "995  {'_type': 'snscrape.modules.twitter.User', 'us...  \n",
       "996  {'_type': 'snscrape.modules.twitter.User', 'us...  \n",
       "997  {'_type': 'snscrape.modules.twitter.User', 'us...  \n",
       "998  {'_type': 'snscrape.modules.twitter.User', 'us...  \n",
       "999  {'_type': 'snscrape.modules.twitter.User', 'us...  \n",
       "\n",
       "[1000 rows x 2 columns]"
      ]
     },
     "execution_count": 49,
     "metadata": {},
     "output_type": "execute_result"
    }
   ],
   "source": [
    "scrap = df.drop(['_type', 'url', 'date', 'renderedContent', 'id',\n",
    "       'replyCount', 'retweetCount', 'likeCount', 'quoteCount',\n",
    "       'conversationId', 'lang', 'source', 'sourceUrl', 'sourceLabel',\n",
    "       'outlinks', 'tcooutlinks', 'media', 'retweetedTweet', 'quotedTweet',\n",
    "       'inReplyToTweetId', 'inReplyToUser', 'mentionedUsers', 'coordinates',\n",
    "       'place', 'hashtags', 'cashtags'], axis=1)\n",
    "scrap\n"
   ]
  },
  {
   "cell_type": "code",
   "execution_count": 50,
   "metadata": {},
   "outputs": [
    {
     "data": {
      "text/html": [
       "<div>\n",
       "<style scoped>\n",
       "    .dataframe tbody tr th:only-of-type {\n",
       "        vertical-align: middle;\n",
       "    }\n",
       "\n",
       "    .dataframe tbody tr th {\n",
       "        vertical-align: top;\n",
       "    }\n",
       "\n",
       "    .dataframe thead th {\n",
       "        text-align: right;\n",
       "    }\n",
       "</style>\n",
       "<table border=\"1\" class=\"dataframe\">\n",
       "  <thead>\n",
       "    <tr style=\"text-align: right;\">\n",
       "      <th></th>\n",
       "      <th>content</th>\n",
       "      <th>user</th>\n",
       "    </tr>\n",
       "  </thead>\n",
       "  <tbody>\n",
       "    <tr>\n",
       "      <th>0</th>\n",
       "      <td>La présidente éthiopienne Sahle-Work Zewde a r...</td>\n",
       "      <td>@rfemassala</td>\n",
       "    </tr>\n",
       "    <tr>\n",
       "      <th>1</th>\n",
       "      <td>Queen Elizabeth Portrait Tribute T-Shirt\\n #El...</td>\n",
       "      <td>@accidentambula1</td>\n",
       "    </tr>\n",
       "    <tr>\n",
       "      <th>2</th>\n",
       "      <td>Answer the question below. Enhance, refine, an...</td>\n",
       "      <td>@UPSCPractice</td>\n",
       "    </tr>\n",
       "    <tr>\n",
       "      <th>3</th>\n",
       "      <td>Elizabeth Bennet Literary Candle 👋\\n #Candle #...</td>\n",
       "      <td>@medea_ebooks</td>\n",
       "    </tr>\n",
       "    <tr>\n",
       "      <th>4</th>\n",
       "      <td>Visiblement, le petit #Trudeau a perdu sa gran...</td>\n",
       "      <td>@sergiodde</td>\n",
       "    </tr>\n",
       "    <tr>\n",
       "      <th>...</th>\n",
       "      <td>...</td>\n",
       "      <td>...</td>\n",
       "    </tr>\n",
       "    <tr>\n",
       "      <th>995</th>\n",
       "      <td>Queen Elizabeth Ornament Mug,Elizabeth Mug,Que...</td>\n",
       "      <td>@LjburgLzou8ldGO</td>\n",
       "    </tr>\n",
       "    <tr>\n",
       "      <th>996</th>\n",
       "      <td>A moment from today. Queen Elizabeth II funera...</td>\n",
       "      <td>@DMann2017</td>\n",
       "    </tr>\n",
       "    <tr>\n",
       "      <th>997</th>\n",
       "      <td>#Diana 's shadow on #Elizabeth 's #funeral, a ...</td>\n",
       "      <td>@AIdreessy</td>\n",
       "    </tr>\n",
       "    <tr>\n",
       "      <th>998</th>\n",
       "      <td>Queen Elizabeth II Is Under Medical Supervisio...</td>\n",
       "      <td>@GraceSmartsBlog</td>\n",
       "    </tr>\n",
       "    <tr>\n",
       "      <th>999</th>\n",
       "      <td>Queen Elizabeth II Is Under Medical Supervisio...</td>\n",
       "      <td>@EstherFelix123</td>\n",
       "    </tr>\n",
       "  </tbody>\n",
       "</table>\n",
       "<p>1000 rows × 2 columns</p>\n",
       "</div>"
      ],
      "text/plain": [
       "                                               content              user\n",
       "0    La présidente éthiopienne Sahle-Work Zewde a r...       @rfemassala\n",
       "1    Queen Elizabeth Portrait Tribute T-Shirt\\n #El...  @accidentambula1\n",
       "2    Answer the question below. Enhance, refine, an...     @UPSCPractice\n",
       "3    Elizabeth Bennet Literary Candle 👋\\n #Candle #...     @medea_ebooks\n",
       "4    Visiblement, le petit #Trudeau a perdu sa gran...        @sergiodde\n",
       "..                                                 ...               ...\n",
       "995  Queen Elizabeth Ornament Mug,Elizabeth Mug,Que...  @LjburgLzou8ldGO\n",
       "996  A moment from today. Queen Elizabeth II funera...        @DMann2017\n",
       "997  #Diana 's shadow on #Elizabeth 's #funeral, a ...        @AIdreessy\n",
       "998  Queen Elizabeth II Is Under Medical Supervisio...  @GraceSmartsBlog\n",
       "999  Queen Elizabeth II Is Under Medical Supervisio...   @EstherFelix123\n",
       "\n",
       "[1000 rows x 2 columns]"
      ]
     },
     "execution_count": 50,
     "metadata": {},
     "output_type": "execute_result"
    }
   ],
   "source": [
    "listuser = []\n",
    "for row in scrap['user']:\n",
    "    listuser.append('@'+row['username'])\n",
    "scrap['user'] = listuser\n",
    "scrap"
   ]
  },
  {
   "cell_type": "code",
   "execution_count": 51,
   "metadata": {},
   "outputs": [
    {
     "data": {
      "text/plain": [
       "'Queen Elizabeth Portrait Tribute T-Shirt\\n #Elizabeth #Tribute #Portrait #Tshirt #TheTRNDshop\\n\\n👉https://t.co/q9dHxwIznN https://t.co/oGhs2ApzqC'"
      ]
     },
     "execution_count": 51,
     "metadata": {},
     "output_type": "execute_result"
    }
   ],
   "source": [
    "text = scrap['content'][1]\n",
    "text"
   ]
  },
  {
   "cell_type": "code",
   "execution_count": 52,
   "metadata": {},
   "outputs": [],
   "source": [
    "mentionnet = nx.DiGraph()\n",
    "\n",
    "for row in scrap.iterrows():\n",
    "    author = row[1]['user']\n",
    "    text = row[1]['content']\n",
    "\n",
    "    mentions = set(re.findall(r'@(\\w+)', text))\n",
    "\n",
    "    if len(mentions) > 0:\n",
    "        for u in mentions:\n",
    "            u = f'@{u}'\n",
    "            mentionnet.add_edge(author, u)\n",
    "    "
   ]
  },
  {
   "cell_type": "code",
   "execution_count": 53,
   "metadata": {},
   "outputs": [],
   "source": [
    "degreecentral = nx.degree_centrality(mentionnet)"
   ]
  },
  {
   "cell_type": "code",
   "execution_count": 54,
   "metadata": {},
   "outputs": [
    {
     "name": "stdout",
     "output_type": "stream",
     "text": [
      "{'@Queen_Q1978': 0.003257328990228013, '@tequieremos': 0.003257328990228013, '@Georges37704025': 0.003257328990228013, '@wdeguerpel': 0.003257328990228013, '@gezegendunya75': 0.003257328990228013, '@ProfSFindik': 0.003257328990228013, '@EVERALDATLARGE': 0.006514657980456026, '@AlboMP': 0.003257328990228013, '@SpectatorOz': 0.003257328990228013, '@MaraPer46623254': 0.003257328990228013, '@NancyEs78964067': 0.003257328990228013, '@shikari': 0.02280130293159609, '@RoyalFamily': 0.02280130293159609, '@BBCBreaking': 0.003257328990228013, '@lesbeaann53': 0.003257328990228013, '@FabVeronika': 0.003257328990228013, '@AlexMayer283': 0.003257328990228013, '@JPJarod': 0.003257328990228013, '@KaishaWaldron': 0.003257328990228013, '@Cliff_Reeve': 0.003257328990228013, '@SamuelAsfaw13': 0.003257328990228013, '@afizejem': 0.003257328990228013, '@Pulga_Phil_M': 0.003257328990228013, '@rarible': 0.006514657980456026, '@PbacClub': 0.003257328990228013, '@lifeasafrica': 0.003257328990228013, '@officialABAT': 0.003257328990228013, '@emirbaba': 0.003257328990228013, '@SedefKabas': 0.003257328990228013, '@uz_oguzlar': 0.013029315960912053, '@JoeBiden': 0.006514657980456026, '@AlsisiOfficial': 0.003257328990228013, '@EmmanuelMacron': 0.003257328990228013, '@CasaReal': 0.003257328990228013, '@jean_marc_Nauts': 0.006514657980456026, '@RTLFrance': 0.003257328990228013, '@LaurentGerra': 0.003257328990228013, '@TravelTomorrowX': 0.013029315960912053, '@atout_france': 0.003257328990228013, '@ParisJeTaime': 0.003257328990228013, '@visitparisreg': 0.003257328990228013, '@BeirutcomMag': 0.006514657980456026, '@ZuhalDiser': 0.00977198697068404, '@tcbestepe': 0.003257328990228013, '@Akparti': 0.006514657980456026, '@RTErdogan': 0.026058631921824105, '@drzarni': 0.003257328990228013, '@nslwin': 0.003257328990228013, '@salimhja': 0.003257328990228013, '@KeChepkirui': 0.003257328990228013, '@BloomTec': 0.006514657980456026, '@Haqeeqat_TV': 0.003257328990228013, '@timduncaan': 0.003257328990228013, '@HavvaGenc': 0.003257328990228013, '@AmelieCorbani': 0.003257328990228013, '@OuestFrance': 0.003257328990228013, '@serpilberat': 0.003257328990228013, '@AlcayirCengiz': 0.003257328990228013, '@Ww3_poltcs': 0.003257328990228013, '@PoliticsJOE_UK': 0.003257328990228013, '@mer54191803': 0.003257328990228013, '@LoveDaBunda': 0.003257328990228013, '@Contrepoints': 0.003257328990228013, '@AdelinRemy': 0.003257328990228013, '@KarwanFaidhiDri': 0.003257328990228013, '@NwenarFatih': 0.003257328990228013, '@MayGod2022': 0.08469055374592835, '@Sucluincelemesi': 0.003257328990228013, '@NPORadio1': 0.006514657980456026, '@beatricedegraaf': 0.003257328990228013, '@StefanPaas': 0.003257328990228013, '@sifansifan36': 0.003257328990228013, '@SahleWorkZewde': 0.003257328990228013, '@AMIStaDeS_2017': 0.006514657980456026, '@BBCWorld': 0.006514657980456026, '@GettyImages': 0.003257328990228013, '@WilliamCobbett4': 0.013029315960912053, '@trussliz': 0.006514657980456026, '@BWallaceMP': 0.003257328990228013, '@geoffreyMyers1': 0.003257328990228013, '@iletisim': 0.003257328990228013, '@DJDylan06040642': 0.003257328990228013, '@visitkarlsruhen': 0.003257328990228013, '@Grard05542415': 0.006514657980456026, '@refdag': 0.003257328990228013, '@NNehoreka': 0.00977198697068404, '@MoFA_ZW': 0.003257328990228013, '@ShavaHon': 0.003257328990228013, '@edmnangagwa': 0.003257328990228013, '@kgupta_7': 0.003257328990228013, '@MarcusVegetable': 0.003257328990228013, '@YouTube': 0.003257328990228013, '@EdRothschild': 0.003257328990228013, '@FBI': 0.003257328990228013, '@USArmy': 0.003257328990228013, '@rockcenternyc': 0.003257328990228013, '@RoyalNavy': 0.003257328990228013, '@CIA': 0.003257328990228013, '@BillGates': 0.003257328990228013, '@Pontifex_ln': 0.003257328990228013, '@DrMTahir1987': 0.006514657980456026, '@praveenswami': 0.003257328990228013, '@ShekharGupta': 0.003257328990228013, '@SylvieNeidinger': 0.00977198697068404, '@purepeople': 0.003257328990228013, '@no_retreatx': 0.00977198697068404, '@Laurieluvsmolly': 0.003257328990228013, '@taradublinrocks': 0.003257328990228013, '@RandyRRQuaid': 0.003257328990228013, '@yuriavista': 0.006514657980456026, '@veNus_2910': 0.006514657980456026, '@van_canci': 0.003257328990228013, '@Knesix': 0.003257328990228013, '@sirjackwindsor': 0.00977198697068404, '@piersmorgan': 0.006514657980456026, '@TalkTV': 0.003257328990228013, '@PiersUncensored': 0.003257328990228013, '@Hak__Ak': 0.003257328990228013, '@omermurat_': 0.003257328990228013, '@ironworker1': 0.003257328990228013, '@Newsweek': 0.003257328990228013, '@asefwaheed': 0.003257328990228013, '@PakistaniPost47': 0.035830618892508145, '@AtikaRehman': 0.003257328990228013, '@SayeedaWarsi': 0.003257328990228013, '@Afzal4Gorton': 0.003257328990228013, '@SHKMEP': 0.003257328990228013, '@muftitaqiusmani': 0.003257328990228013, '@SaqibAhmedRaja': 0.003257328990228013, '@ARSyed1': 0.003257328990228013, '@MurtazaViews': 0.003257328990228013, '@drfareehafaisal': 0.003257328990228013, '@SirajOfficial': 0.003257328990228013, '@MuftiPopalzai': 0.003257328990228013, '@MerjaErapolku': 0.003257328990228013, '@JyriKomulainen': 0.003257328990228013, '@Yahoo': 0.003257328990228013, '@swagsteveagain': 0.00977198697068404, '@itvnews': 0.003257328990228013, '@BBCNews': 0.003257328990228013, '@asg_news': 0.006514657980456026, '@KrishnaBrjbala': 0.003257328990228013, '@ddichorgaye': 0.003257328990228013, '@AJEY388': 0.006514657980456026, '@ImRo45': 0.003257328990228013, '@BCCI': 0.003257328990228013, '@CarolienKrijnen': 0.003257328990228013, '@PennyRed': 0.003257328990228013, '@jftaveira1993': 0.003257328990228013, '@freedomrideblog': 0.003257328990228013, '@ArteDesintox': 0.003257328990228013, '@artefr': 0.003257328990228013, '@Annamariatrees': 0.003257328990228013, '@op1npo': 0.003257328990228013, '@maxarcidiacono': 0.003257328990228013, '@oggisettimanale': 0.003257328990228013, '@Strategies': 0.003257328990228013, '@Conversationnel': 0.003257328990228013, '@K62266': 0.006514657980456026, '@kilicdarogluk': 0.003257328990228013, '@tugce_kazaz1': 0.003257328990228013, '@lanpirak': 0.006514657980456026, '@sedat_peker': 0.003257328990228013, '@yilmazsozcu': 0.003257328990228013, '@Aahmet27025398': 0.01954397394136808, '@dbdevletbahceli': 0.003257328990228013, '@BY': 0.003257328990228013, '@fahrettinaltun': 0.003257328990228013, '@DIBAliErbas': 0.003257328990228013, '@PascalDrouhaud': 0.00977198697068404, '@Jenriquerobles': 0.003257328990228013, '@globovision': 0.003257328990228013, '@NIZAMULMULK_58': 0.003257328990228013, '@DiabeticCyborgg': 0.003257328990228013, '@adeniran': 0.003257328990228013, '@merve58344771': 0.003257328990228013, '@TubaElver': 0.003257328990228013, '@ReikiFresco': 0.013029315960912053, '@thismorning': 0.003257328990228013, '@JuliaHB1': 0.003257328990228013, '@Schofe': 0.003257328990228013, '@hollywills': 0.003257328990228013, '@MDS_Updates': 0.006514657980456026, '@ChristineTacon': 0.003257328990228013, '@FarmersWeekly': 0.003257328990228013, '@Midilibre': 0.003257328990228013, '@DBhaskarHindi': 0.006514657980456026, '@B_Menesewicz': 0.003257328990228013, '@__Lewica': 0.003257328990228013, '@hakan_simsek07': 0.006514657980456026, '@TCAytunCiray': 0.003257328990228013, '@AkoKarimy': 0.006514657980456026, '@DeniizFTW': 0.003257328990228013, '@MevlutCavusoglu': 0.003257328990228013, '@UN_HRC': 0.003257328990228013, '@KremlinRussia': 0.003257328990228013, '@NATO': 0.003257328990228013, '@EUCouncil': 0.003257328990228013, '@UN': 0.003257328990228013, '@buy1_best': 0.006514657980456026, '@m06y42': 0.003257328990228013, '@birincimucahit': 0.003257328990228013, '@peyamakurd': 0.003257328990228013, '@IKRPresident': 0.003257328990228013, '@bkampmark': 0.003257328990228013, '@eurekastreet': 0.003257328990228013, '@TBN228': 0.003257328990228013, '@FEGnassingbe': 0.003257328990228013, '@yasarsaban52': 0.00977198697068404, '@SaadetPartisi': 0.003257328990228013, '@EmreEmreusta': 0.003257328990228013, '@SaadetIstanbul': 0.003257328990228013, '@muharremkocadg': 0.003257328990228013, '@LutfuTurkkan': 0.003257328990228013, '@MughalNazi158': 0.006514657980456026, '@HMQueen': 0.003257328990228013, '@PakPMO': 0.003257328990228013, '@Mr_COP_officer': 0.003257328990228013, '@_RowanAtkinson': 0.003257328990228013, '@AnonSamurai00': 0.006514657980456026, '@kaitonomia': 0.003257328990228013, '@Zincpyr1thione': 0.003257328990228013, '@yolkurdu06': 0.003257328990228013, '@ilvocio': 0.003257328990228013, '@Cassandracaru': 0.003257328990228013, '@Mirayislam2': 0.003257328990228013, '@BenGidding': 0.003257328990228013, '@POTUS': 0.003257328990228013, '@lindependant': 0.006514657980456026, '@Cdanslair': 0.006514657980456026, '@France5tv': 0.003257328990228013, '@HubertDeMeulder': 0.003257328990228013, '@NOS': 0.003257328990228013, '@GarconsOfficiel': 0.003257328990228013, '@bernstephane': 0.003257328990228013, '@EKH_Fr': 0.003257328990228013, '@KingSalman': 0.006514657980456026, '@RichardJMurphy': 0.003257328990228013, '@bedane_mesfin': 0.003257328990228013, '@Buckingham': 0.003257328990228013, '@deje_dejen': 0.003257328990228013, '@sanusi90064': 0.003257328990228013, '@ari_stotel': 0.003257328990228013, '@anabrnabic': 0.003257328990228013, '@fuzuli41': 0.003257328990228013, '@hasanselcik20': 0.006514657980456026, '@komikrtweetler': 0.003257328990228013, '@ismailabimm': 0.003257328990228013, '@Civil_Supremo': 0.003257328990228013, '@javerias': 0.003257328990228013, '@MaurilioVitto': 0.006514657980456026, '@Marco_dreams': 0.003257328990228013, '@BRAVENEWEUROPE1': 0.003257328990228013, '@SonaliKolhatkar': 0.003257328990228013, '@erny110393': 0.003257328990228013, '@KSAmofaFRA': 0.003257328990228013, '@NEWSEXPRESS': 0.003257328990228013, '@newsexpress': 0.003257328990228013, '@Levercors': 0.003257328990228013, '@PKU1898': 0.003257328990228013, '@PEnn': 0.003257328990228013, '@Harvard': 0.003257328990228013, '@UniofOxford': 0.003257328990228013, '@Yale': 0.003257328990228013, '@Stanford': 0.003257328990228013, '@Cornell': 0.003257328990228013, '@Princeton': 0.003257328990228013, '@Cambridge_Uni': 0.003257328990228013, '@vatannivat1': 0.006514657980456026, '@muhsin_ozturk42': 0.003257328990228013, '@misvakdergi': 0.003257328990228013, '@MSMscarecrow': 0.006514657980456026, '@rashtrapatibhvn': 0.003257328990228013, '@nathan19832012': 0.003257328990228013, '@elizabeth10kapl': 0.003257328990228013, '@ReneNow': 0.003257328990228013, '@UniteWomenOrgNY': 0.003257328990228013, '@ShirwacYabe': 0.04560260586319218, '@TerraAbdirizak': 0.003257328990228013, '@safiirk': 0.003257328990228013, '@ahmednasirlaw': 0.003257328990228013, '@TheVillaSomalia': 0.003257328990228013, '@kingofSomaliaa': 0.003257328990228013, '@SSCVoices': 0.003257328990228013, '@jibrilmo903': 0.003257328990228013, '@awdal_waaye': 0.003257328990228013, '@SomPundit': 0.003257328990228013, '@Mahraj01': 0.003257328990228013, '@Wadani_Hubeysan': 0.003257328990228013, '@MunaLayla1': 0.003257328990228013, '@EGaraad_': 0.003257328990228013, '@HassanSMohamud': 0.003257328990228013, '@JonBoles3': 0.003257328990228013, '@RepDerekKilmer': 0.003257328990228013, '@JRICAT': 0.003257328990228013, '@Suspender_Sue': 0.026058631921824105, '@Football': 0.003257328990228013, '@FAPremierLeague': 0.003257328990228013, '@SkySportsPL': 0.003257328990228013, '@EFL': 0.003257328990228013, '@SunderlandAFC': 0.003257328990228013, '@ManUtd': 0.003257328990228013, '@NUFC': 0.003257328990228013, '@SkyFootball': 0.003257328990228013, '@EKDIN_News': 0.006514657980456026, '@MelanieFineRea1': 0.003257328990228013, '@NatGeo': 0.003257328990228013, '@Churchill45': 0.003257328990228013}\n"
     ]
    }
   ],
   "source": [
    "print(degreecentral)"
   ]
  },
  {
   "cell_type": "code",
   "execution_count": 55,
   "metadata": {},
   "outputs": [],
   "source": [
    "dfexport = nx.to_pandas_edgelist(mentionnet)\n",
    "dfexport.to_csv('queen.csv')"
   ]
  }
 ],
 "metadata": {
  "kernelspec": {
   "display_name": "Python 3.10.5 ('.venv': venv)",
   "language": "python",
   "name": "python3"
  },
  "language_info": {
   "codemirror_mode": {
    "name": "ipython",
    "version": 3
   },
   "file_extension": ".py",
   "mimetype": "text/x-python",
   "name": "python",
   "nbconvert_exporter": "python",
   "pygments_lexer": "ipython3",
   "version": "3.10.5"
  },
  "orig_nbformat": 4,
  "vscode": {
   "interpreter": {
    "hash": "e5bdc5626e3ee0b9f2cb17ad4f32f901df6de7438aedae0b4184927feb23b082"
   }
  }
 },
 "nbformat": 4,
 "nbformat_minor": 2
}
