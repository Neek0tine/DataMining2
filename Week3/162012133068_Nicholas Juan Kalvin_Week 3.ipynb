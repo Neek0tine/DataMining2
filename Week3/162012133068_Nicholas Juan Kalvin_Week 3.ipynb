{
 "cells": [
  {
   "cell_type": "markdown",
   "metadata": {
    "collapsed": false
   },
   "source": [
    "# Tugas Praktikum Minggu 3\n",
    "### Nicholas Juan Kalvin P. | 162012133068\n",
    "<hr>\n",
    "\n"
   ]
  },
  {
   "cell_type": "markdown",
   "metadata": {
    "collapsed": false
   },
   "source": [
    "# Image Mining"
   ]
  },
  {
   "cell_type": "markdown",
   "metadata": {
    "collapsed": false
   },
   "source": [
    "## Tugas Praktikum:\n",
    "<ol>\n",
    "    <li> Memodifikasi kode bagian (a) agar dapat menampilkan citra \"Lenna\" dalam grayscale</li>\n",
    "    <li> Memodifikasi kode bagian (a) agar bisa melakukkan crop pada citra \"Lenna\"\n",
    "    <li> Memodifikasi kode bagian (a) agar dapat menampilkan ukuran citra grayscale dar \"Lenna\" dan nilai matriks dari citra grayscale pada baris ke-0 dan kolom ke-0.\n",
    "         Apakah hasilnya beda dari kode bagian (b)? Jelaskan alasannya!</li>\n",
    "     <li> Modifikasi kode bagian (c) untuk menampilkan Green and Red</li>\n",
    "     <li> Simpanlah file \"Lenna\" menjadi format JPEG dengan menggunakan method <code>imwrite</code> pada OpenCV. Apakah terdapat perbedaan nilai array pada file citra asli dan file dengan format JPEG? Jelaskan alasannya!\n",
    "</ol>\n",
    "\n",
    "<hr>\n"
   ]
  },
  {
   "cell_type": "code",
   "execution_count": 2,
   "metadata": {
    "collapsed": false,
    "pycharm": {
     "name": "#%%\n"
    }
   },
   "outputs": [],
   "source": [
    "# Modules\n",
    "import sklearn\n",
    "from sklearn.preprocessing import LabelEncoder\n",
    "from sklearn.preprocessing import OneHotEncoder\n",
    "from scipy.io.wavfile import write\n",
    "import matplotlib.pyplot as plt\n",
    "import numpy as np\n",
    "import random\n",
    "import cv2"
   ]
  },
  {
   "cell_type": "markdown",
   "metadata": {
    "collapsed": false,
    "pycharm": {
     "name": "#%% md\n"
    }
   },
   "source": [
    "### Tugas Praktikum No. A 1"
   ]
  },
  {
   "cell_type": "code",
   "execution_count": 3,
   "metadata": {
    "collapsed": false,
    "pycharm": {
     "name": "#%%\n"
    }
   },
   "outputs": [],
   "source": [
    "# Load image\n",
    "normal_image = cv2.imread('./lenna.png')\n",
    "grey_image = cv2.cvtColor(normal_image, cv2.COLOR_BGR2GRAY)\n",
    "cv2.imshow('Greyscaled Image', grey_image)\n",
    "cv2.waitKey(0)\n",
    "cv2.destroyAllWindows()"
   ]
  },
  {
   "cell_type": "markdown",
   "metadata": {},
   "source": [
    "### Gambar yang dihasilkan adalah \n",
    "![GreyscaledLenna](screenshots/greyscale_lenna.png)\n"
   ]
  },
  {
   "cell_type": "markdown",
   "metadata": {
    "collapsed": false
   },
   "source": [
    "### Tugas Praktikum No. A 2"
   ]
  },
  {
   "cell_type": "code",
   "execution_count": 4,
   "metadata": {
    "collapsed": false,
    "pycharm": {
     "name": "#%%\n"
    }
   },
   "outputs": [
    {
     "name": "stdout",
     "output_type": "stream",
     "text": [
      "Height:  330\n",
      "Width:  330\n",
      "Channels:  3\n"
     ]
    }
   ],
   "source": [
    "# Mencari dimensi\n",
    "height = normal_image.shape[0]\n",
    "width = normal_image.shape[1]\n",
    "channels = normal_image.shape[2]\n",
    "\n",
    "print('Height: ', height)\n",
    "print('Width: ', width)\n",
    "print('Channels: ', channels)\n",
    "\n",
    "# Croppping\n",
    "cropped_image = normal_image[150:280, 150:280]\n",
    "cv2.imshow('Cropped Image', cropped_image)\n",
    "cv2.waitKey(0)\n",
    "cv2.destroyAllWindows()\n"
   ]
  },
  {
   "cell_type": "markdown",
   "metadata": {},
   "source": [
    "### Gambar hasil crop terlihat seperti berikut:\n",
    "![NormalLenna](lenna.png)\n",
    "![CroppedLenna](screenshots/cropped_lenna.png)"
   ]
  },
  {
   "cell_type": "markdown",
   "metadata": {
    "collapsed": false
   },
   "source": [
    "### Tugas Praktikum No. A 3"
   ]
  },
  {
   "cell_type": "code",
   "execution_count": 5,
   "metadata": {
    "collapsed": false,
    "pycharm": {
     "name": "#%%\n"
    }
   },
   "outputs": [
    {
     "name": "stdout",
     "output_type": "stream",
     "text": [
      "Ukuran citra greyscale:  (330, 330)\n",
      "Matriks warna (0, 0) greyscale:   162 \n",
      "\n",
      "Ukuran citra warna:  (330, 330, 3)\n",
      "Matriks warna (0, 0) greyscale:   [124 137 226]\n"
     ]
    }
   ],
   "source": [
    "print('Ukuran citra greyscale: ', grey_image.shape)\n",
    "print('Matriks warna (0, 0) greyscale:  ', grey_image[0, 0], '\\n')\n",
    "\n",
    "print('Ukuran citra warna: ', normal_image.shape)\n",
    "print('Matriks warna (0, 0) greyscale:  ', normal_image[0, 0])\n"
   ]
  },
  {
   "cell_type": "markdown",
   "metadata": {
    "collapsed": false,
    "pycharm": {
     "name": "#%% md\n"
    }
   },
   "source": [
    "### Penjelasan:\n",
    "<p> Perbedaan pada nilai ukuran citra dan matriks warna terdapat dijelaskan oleh warna citra itu sendiri.\n",
    "Pada ukuran citra greyscale, hanya terdapat 2 nilai karena nilai 3 yang berisi <code>channel</code> tidak tersedia karena hanya memiliki satu spektrum warna.</p><br>\n",
    "<p>Matriks pada citra greyscale juga hanya berjumlah satu, karena satu nilai itu yang menjelaskan seberapa \"dalam\" warna hitam yang dibuat</p><br>\n",
    "<p>Sedangkan untuk citra yang memiliki warna, terdapat nilai channel bernilai 3 yaitu channel <code>Red, Green dan Blue</code> yang membuat citra memiliki warna.</p><br>\n",
    "<p>Matriks pada citra bewarna juga berbeda, karena matriks ini memiliki 3 nilai, yaitu <code>Red, Green dan Blue</code> dimana masing nilai menjelaskan seberapa \"dalam\" warna tersebut</p>"
   ]
  },
  {
   "cell_type": "markdown",
   "metadata": {
    "collapsed": false
   },
   "source": [
    "### Tugas Praktikum No. A 4"
   ]
  },
  {
   "cell_type": "code",
   "execution_count": 6,
   "metadata": {
    "collapsed": false,
    "pycharm": {
     "name": "#%%\n"
    }
   },
   "outputs": [
    {
     "name": "stdout",
     "output_type": "stream",
     "text": [
      "Channel Biru:  [[124 131 125 ... 124 120  96]\n",
      " [124 131 125 ... 124 119  96]\n",
      " [125 132 126 ... 126 122  98]\n",
      " ...\n",
      " [ 64  60  63 ...  79  77  77]\n",
      " [ 59  58  62 ...  83  80  79]\n",
      " [ 57  60  64 ...  82  78  82]]\n",
      "Channel Hijau:  [[137 137 137 ... 149 145 109]\n",
      " [137 137 137 ... 148 144 108]\n",
      " [137 137 137 ... 151 150 113]\n",
      " ...\n",
      " [ 27  25  27 ...  64  67  61]\n",
      " [ 18  25  28 ...  69  71  67]\n",
      " [ 22  29  30 ...  70  69  74]]\n",
      "Channel Merah:  [[226 224 224 ... 233 229 207]\n",
      " [226 224 224 ... 232 229 206]\n",
      " [226 223 224 ... 235 233 212]\n",
      " ...\n",
      " [ 89  88  91 ... 161 168 164]\n",
      " [ 82  90  95 ... 172 175 177]\n",
      " [ 81  91  96 ... 177 180 184]]\n"
     ]
    },
    {
     "data": {
      "text/plain": [
       "-1"
      ]
     },
     "execution_count": 6,
     "metadata": {},
     "output_type": "execute_result"
    }
   ],
   "source": [
    "# Lihat Channel Warna\n",
    "(blue, green, red) = cv2.split(normal_image)\n",
    "print('Channel Biru: ', blue)\n",
    "print('Channel Hijau: ', green)\n",
    "print('Channel Merah: ', red)\n",
    "\n",
    "def single_colorizer(image, color):\n",
    "    splitted_image = cv2.split(image)\n",
    "    m = np.zeros(splitted_image[0].shape[:2], splitted_image[0].dtype)\n",
    "    colored_image = None\n",
    "    if color == 'red':\n",
    "        colored_image = cv2.merge([m, m, splitted_image[0]])\n",
    "    elif color == 'green':\n",
    "        colored_image = cv2.merge([m, splitted_image[0], m])\n",
    "    elif color == 'blue':\n",
    "        colored_image = cv2.merge([splitted_image[0], m, m])\n",
    "    else:\n",
    "        print('Error!')\n",
    "\n",
    "    return colored_image\n",
    "\n",
    "# cv2.imshow('biru', single_colorizer(blue, 2))\n",
    "red = single_colorizer(normal_image, 'red')\n",
    "green = single_colorizer(normal_image, 'green')\n",
    "blue = single_colorizer(normal_image, 'blue')\n",
    "\n",
    "vertical_concat = np.concatenate((red, green, blue), axis=1)\n",
    "cv2.imshow(\"Citra setiap channel\", vertical_concat)\n",
    "cv2.waitKey(0)\n"
   ]
  },
  {
   "cell_type": "markdown",
   "metadata": {},
   "source": [
    "### Hasil citra dengan setiap channel warna dipisahkan terlihat seperti berikut:\n",
    "![SplittedLenna](screenshots/rgb_lenna.png)"
   ]
  },
  {
   "cell_type": "markdown",
   "metadata": {
    "collapsed": false
   },
   "source": [
    "<hr>\n",
    "\n",
    "# Audio Mining\n",
    "\n",
    "## Tugas Praktikum:\n",
    "<ol>\n",
    "    <li> Modifikasi kode bagian (a) agar membuat gelombang suara dengan frekuensi 1000, dan simpan file audio kedalam file2.wav. Apakah suara yang dihasilkan file2.wav berbeda dengan file1.wav (dihasilkan oleh kode (b))? jelaskan alasannya. </li>\n",
    "    <li> Modifikasi  kode  bagian  (a)  dengan  mengganti  nilai  amplitudo  menjadi  16,  dengan frekuensi 200 Hz, lalu simpan file audio kedalam file3.wav. Apakah terdapat perbedaan bunyi dengan hasil suara dari kode bagian (b) atau file1.wav? jelaskan alasannya. </li>\n",
    "</ol>\n",
    "<hr>\n"
   ]
  },
  {
   "cell_type": "markdown",
   "metadata": {
    "collapsed": false
   },
   "source": [
    "### Tugas Praktikum No. B 1"
   ]
  },
  {
   "cell_type": "code",
   "execution_count": 7,
   "metadata": {
    "collapsed": false,
    "pycharm": {
     "name": "#%%\n"
    }
   },
   "outputs": [],
   "source": [
    "sr = 44100\n",
    "freq = 1000\n",
    "length = 1\n",
    "t = np.arange(0, length, 1.0/sr)\n",
    "signal = np.sin(np.pi*2*freq*t)\n",
    "\n",
    "\n",
    "write(\"file2.wav\", sr, signal)"
   ]
  },
  {
   "cell_type": "code",
   "execution_count": 8,
   "metadata": {},
   "outputs": [
    {
     "data": {
      "image/png": "[encoded data removed]",
      "text/plain": [
       "<Figure size 432x288 with 1 Axes>"
      ]
     },
     "metadata": {
      "needs_background": "light"
     },
     "output_type": "display_data"
    }
   ],
   "source": [
    "plt.plot(t, signal)\n",
    "plt.show()"
   ]
  },
  {
   "cell_type": "markdown",
   "metadata": {
    "collapsed": false,
    "pycharm": {
     "name": "#%% md\n"
    }
   },
   "source": [
    "### Tugas Praktikum No. B 2"
   ]
  },
  {
   "cell_type": "code",
   "execution_count": 1,
   "metadata": {
    "collapsed": false,
    "pycharm": {
     "name": "#%%\n"
    }
   },
   "outputs": [
    {
     "data": {
      "application/javascript": "\n        if (window._pyforest_update_imports_cell) { window._pyforest_update_imports_cell('import numpy as np'); }\n    ",
      "text/plain": [
       "<IPython.core.display.Javascript object>"
      ]
     },
     "metadata": {},
     "output_type": "display_data"
    },
    {
     "data": {
      "application/javascript": "\n        if (window._pyforest_update_imports_cell) { window._pyforest_update_imports_cell('import numpy as np'); }\n    ",
      "text/plain": [
       "<IPython.core.display.Javascript object>"
      ]
     },
     "metadata": {},
     "output_type": "display_data"
    },
    {
     "ename": "NameError",
     "evalue": "name 't' is not defined",
     "output_type": "error",
     "traceback": [
      "\u001b[1;31m---------------------------------------------------------------------------\u001b[0m",
      "\u001b[1;31mNameError\u001b[0m                                 Traceback (most recent call last)",
      "\u001b[1;32m<ipython-input-1-8c26e94e6938>\u001b[0m in \u001b[0;36m<module>\u001b[1;34m\u001b[0m\n\u001b[0;32m      3\u001b[0m \u001b[0mlength\u001b[0m \u001b[1;33m=\u001b[0m \u001b[1;36m1\u001b[0m\u001b[1;33m\u001b[0m\u001b[1;33m\u001b[0m\u001b[0m\n\u001b[0;32m      4\u001b[0m \u001b[0mt2\u001b[0m \u001b[1;33m=\u001b[0m \u001b[0mnp\u001b[0m\u001b[1;33m.\u001b[0m\u001b[0marange\u001b[0m\u001b[1;33m(\u001b[0m\u001b[1;36m0\u001b[0m\u001b[1;33m,\u001b[0m \u001b[0mlength\u001b[0m\u001b[1;33m,\u001b[0m \u001b[1;36m1.0\u001b[0m\u001b[1;33m/\u001b[0m\u001b[0msr\u001b[0m\u001b[1;33m)\u001b[0m\u001b[1;33m\u001b[0m\u001b[1;33m\u001b[0m\u001b[0m\n\u001b[1;32m----> 5\u001b[1;33m \u001b[0msignal2\u001b[0m \u001b[1;33m=\u001b[0m \u001b[1;36m16\u001b[0m \u001b[1;33m*\u001b[0m \u001b[1;33m(\u001b[0m\u001b[0mnp\u001b[0m\u001b[1;33m.\u001b[0m\u001b[0mpi\u001b[0m\u001b[1;33m*\u001b[0m\u001b[1;36m2\u001b[0m\u001b[1;33m*\u001b[0m\u001b[0mfreq\u001b[0m\u001b[1;33m*\u001b[0m\u001b[0mt\u001b[0m\u001b[1;33m)\u001b[0m\u001b[1;33m\u001b[0m\u001b[1;33m\u001b[0m\u001b[0m\n\u001b[0m\u001b[0;32m      6\u001b[0m \u001b[1;33m\u001b[0m\u001b[0m\n\u001b[0;32m      7\u001b[0m \u001b[0mwrite\u001b[0m\u001b[1;33m(\u001b[0m\u001b[1;34m\"file3.wav\"\u001b[0m\u001b[1;33m,\u001b[0m \u001b[0msr\u001b[0m\u001b[1;33m,\u001b[0m \u001b[0msignal2\u001b[0m\u001b[1;33m)\u001b[0m\u001b[1;33m\u001b[0m\u001b[1;33m\u001b[0m\u001b[0m\n",
      "\u001b[1;31mNameError\u001b[0m: name 't' is not defined"
     ]
    }
   ],
   "source": [
    "sr = 44100\n",
    "freq = 200\n",
    "length = 1\n",
    "t2 = np.arange(0, length, 1.0/sr)\n",
    "signal2 = 16 * (np.pi*2*freq*t)\n",
    "\n",
    "write(\"file3.wav\", sr, signal2)"
   ]
  },
  {
   "cell_type": "code",
   "execution_count": null,
   "metadata": {},
   "outputs": [],
   "source": []
  },
  {
   "cell_type": "markdown",
   "metadata": {
    "collapsed": false
   },
   "source": [
    "<hr>\n",
    "\n",
    "# Text Mining\n",
    "\n",
    "## Tugas Praktikum:\n",
    "<ol>\n",
    "    <li> Modifikasi kode bagian (a) agar bisa menapilkan ASCII code untuk kata `datA mining` </li>\n",
    "    <li> Tambahkan kode bagian (b) agar bisa menampilkan kembali kata pertama yang di lakukan one-hot encoding (hint: lakukan inverse dari hasil encode). [[<b>1</b>000][0001][0100][0010]]  dengan bold adalah kata \"I\"</li>\n",
    "    <li> Download file tugas_text_representation.csv dari hebat, kemudian lakukan CountVectorizer dan TF-IDF pada korpus tersebut. Jelaskan hasil yang didapatkan.\n",
    "    <li> Modifikasi kode bagian (d) agar bisa menampilkan grafik dari tiap kata. </li>\n",
    "</ol>\n",
    "<hr>"
   ]
  },
  {
   "cell_type": "markdown",
   "metadata": {},
   "source": [
    "### Tugas Praktikum No. C 1"
   ]
  },
  {
   "cell_type": "code",
   "execution_count": 10,
   "metadata": {},
   "outputs": [
    {
     "name": "stdout",
     "output_type": "stream",
     "text": [
      "[100, 97, 116, 65, 32, 109, 105, 110, 105, 110, 103]\n"
     ]
    }
   ],
   "source": [
    "_char = 'datA mining'\n",
    "_ascii = [ord(letter) for letter in _char]\n",
    "print(_ascii)"
   ]
  },
  {
   "cell_type": "markdown",
   "metadata": {},
   "source": [
    "### Tugas Praktikum No. C 2"
   ]
  },
  {
   "cell_type": "code",
   "execution_count": 11,
   "metadata": {},
   "outputs": [
    {
     "name": "stdout",
     "output_type": "stream",
     "text": [
      "['I' 'ate' 'an' 'apple']\n",
      "[0 3 1 2]\n"
     ]
    },
    {
     "data": {
      "text/plain": [
       "array([[1., 0., 0., 0.],\n",
       "       [0., 0., 0., 1.],\n",
       "       [0., 1., 0., 0.],\n",
       "       [0., 0., 1., 0.]])"
      ]
     },
     "execution_count": 11,
     "metadata": {},
     "output_type": "execute_result"
    }
   ],
   "source": [
    "from tkinter import Label\n",
    "\n",
    "\n",
    "docs = \"I ate an apple\"\n",
    "\n",
    "# Memisah kalimat menjadi token\n",
    "split_docs = docs.split(\" \")\n",
    "data = [doc.split(\" \") for doc in split_docs]\n",
    "values = np.array(data).ravel()\n",
    "print(values)\n",
    "\n",
    "# Integer Encoder\n",
    "label_encoder = LabelEncoder()\n",
    "integer_encoded = label_encoder.fit_transform(values)\n",
    "print(integer_encoded)\n",
    "\n",
    "# Binary Encoder\n",
    "onehot_encoder = OneHotEncoder(sparse=False)\n",
    "integer_encoded = integer_encoded.reshape(len(integer_encoded), 1)\n",
    "onehot_encoded = onehot_encoder.fit_transform(integer_encoded)\n",
    "# reverse_onehot = onehot_encoder.inverse_transform(onehot_encoded)\n",
    "# reverse_encoded = label_encoder.fit_transform(reverse_onehot)\n",
    "     \n",
    "# reverse_encoded                 \n",
    "onehot_encoded"
   ]
  },
  {
   "cell_type": "code",
   "execution_count": 12,
   "metadata": {},
   "outputs": [
    {
     "data": {
      "application/javascript": "\n        if (window._pyforest_update_imports_cell) { window._pyforest_update_imports_cell('import pandas as pd'); }\n    ",
      "text/plain": [
       "<IPython.core.display.Javascript object>"
      ]
     },
     "metadata": {},
     "output_type": "display_data"
    },
    {
     "data": {
      "text/plain": [
       "'I apple ate an'"
      ]
     },
     "execution_count": 12,
     "metadata": {},
     "output_type": "execute_result"
    }
   ],
   "source": [
    "def reverse_encoder(encode,cols):\n",
    "    df = pd.DataFrame(encode, columns=cols)\n",
    "    df['ind_all'] = (df.iloc[:, :] == 1).idxmax(1)\n",
    "\n",
    "    return ' '.join([i for i in df['ind_all']])\n",
    "\n",
    "reverse_encoding = reverse_encoder(encode=onehot_encoded, cols=values)\n",
    "reverse_encoding"
   ]
  },
  {
   "cell_type": "markdown",
   "metadata": {},
   "source": [
    "### Tugas Praktikum No. C 3"
   ]
  },
  {
   "cell_type": "code",
   "execution_count": 13,
   "metadata": {},
   "outputs": [],
   "source": [
    "from sklearn.feature_extraction.text import CountVectorizer"
   ]
  },
  {
   "cell_type": "code",
   "execution_count": 27,
   "metadata": {},
   "outputs": [
    {
     "name": "stdout",
     "output_type": "stream",
     "text": [
      "{'everybody': 4, 'love': 8, 'nlp': 10, 'is': 6, 'so': 13, 'cool': 3, 'all': 1, 'about': 0, 'helping': 5, 'machines': 9, 'process': 12, 'language': 7, 'this': 15, 'tutorial': 16, 'on': 11, 'basic': 2, 'technique': 14}\n",
      "(4, 17)\n",
      "[[0 0 0 0 1 0 0 0 1 0 1 0 0 0 0 0 0]\n",
      " [0 0 0 1 0 0 1 0 0 0 1 0 0 1 0 0 0]\n",
      " [1 1 0 0 0 1 1 1 0 1 1 0 1 0 0 0 0]\n",
      " [0 0 1 0 0 0 1 0 0 0 1 1 0 0 1 1 1]]\n"
     ]
    }
   ],
   "source": [
    "text = ['everybody love nlp', 'nlp is so cool',\n",
    "'nlp is all about helping machines process language', \n",
    "'this tutorial is on basic nlp technique']\n",
    "\n",
    "vectorizer = CountVectorizer()\n",
    "\n",
    "# tokenasi dan membuat vocab\n",
    "vectorizer.fit(text)\n",
    "vectorizer_count = vectorizer.vocabulary_\n",
    "print(vectorizer_count)\n",
    "\n",
    "# encode dokumen\n",
    "vector = vectorizer.transform(text)\n",
    "\n",
    "# hasil encode vektor\n",
    "print(vector.shape)\n",
    "print(vectorizer_dict)\n"
   ]
  },
  {
   "cell_type": "code",
   "execution_count": null,
   "metadata": {},
   "outputs": [
    {
     "data": {
      "text/plain": [
       "{'everybody': 4,\n",
       " 'love': 8,\n",
       " 'nlp': 10,\n",
       " 'is': 6,\n",
       " 'so': 13,\n",
       " 'cool': 3,\n",
       " 'all': 1,\n",
       " 'about': 0,\n",
       " 'helping': 5,\n",
       " 'machines': 9,\n",
       " 'process': 12,\n",
       " 'language': 7,\n",
       " 'this': 15,\n",
       " 'tutorial': 16,\n",
       " 'on': 11,\n",
       " 'basic': 2,\n",
       " 'technique': 14}"
      ]
     },
     "execution_count": 15,
     "metadata": {},
     "output_type": "execute_result"
    }
   ],
   "source": [
    "{'everybody': 4, 'love': 8, 'nlp': 10, 'is': 6, 'so': 13, 'cool': 3, \n",
    "'all': 1, 'about': 0, 'helping': 5, 'machines': 9, 'process': 12, \n",
    "'language': 7, 'this': 15, 'tutorial': 16, 'on': 11, 'basic': 2, \n",
    "'technique': 14}"
   ]
  },
  {
   "cell_type": "markdown",
   "metadata": {},
   "source": [
    "### Tugas Praktikum No. C 4"
   ]
  },
  {
   "cell_type": "code",
   "execution_count": 52,
   "metadata": {},
   "outputs": [
    {
     "data": {
      "text/plain": [
       "([0, 1, 2, 3, 4, 5, 6, 7, 8, 9, 10, 11, 12, 13, 14, 15, 16],\n",
       " [Text(0, 0, ''),\n",
       "  Text(0, 0, ''),\n",
       "  Text(0, 0, ''),\n",
       "  Text(0, 0, ''),\n",
       "  Text(0, 0, ''),\n",
       "  Text(0, 0, ''),\n",
       "  Text(0, 0, ''),\n",
       "  Text(0, 0, ''),\n",
       "  Text(0, 0, ''),\n",
       "  Text(0, 0, ''),\n",
       "  Text(0, 0, ''),\n",
       "  Text(0, 0, ''),\n",
       "  Text(0, 0, ''),\n",
       "  Text(0, 0, ''),\n",
       "  Text(0, 0, ''),\n",
       "  Text(0, 0, ''),\n",
       "  Text(0, 0, '')])"
      ]
     },
     "execution_count": 52,
     "metadata": {},
     "output_type": "execute_result"
    },
    {
     "data": {
      "image/png": "[encoded data removed]",
      "text/plain": [
       "<Figure size 432x288 with 1 Axes>"
      ]
     },
     "metadata": {
      "needs_background": "light"
     },
     "output_type": "display_data"
    }
   ],
   "source": [
    "from sklearn.feature_extraction.text import TfidfVectorizer\n",
    "\n",
    "tf = TfidfVectorizer()\n",
    "txt_fitted = tf.fit(text)\n",
    "txt_transformed = txt_fitted.transform(text)\n",
    "\n",
    "idf = tf.idf_\n",
    "tfidf_dict = dict(zip(txt_fitted.get_feature_names(), idf))\n",
    "\n",
    "plt.bar(tfidf_dict.keys(), tfidf_dict.values())\n",
    "plt.xticks(rotation=90)\n",
    "\n",
    "\n"
   ]
  }
 ],
 "metadata": {
  "kernelspec": {
   "display_name": "PyCharm (DataMining2)",
   "language": "python",
   "name": "pycharm-e90e934b"
  },
  "language_info": {
   "codemirror_mode": {
    "name": "ipython",
    "version": 3
   },
   "file_extension": ".py",
   "mimetype": "text/x-python",
   "name": "python",
   "nbconvert_exporter": "python",
   "pygments_lexer": "ipython3",
   "version": "3.9.1"
  }
 },
 "nbformat": 4,
 "nbformat_minor": 0
}
